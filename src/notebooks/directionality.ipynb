{
 "cells": [
  {
   "cell_type": "markdown",
   "metadata": {},
   "source": [
    "# Directionaly of the adaptive response"
   ]
  },
  {
   "cell_type": "markdown",
   "metadata": {},
   "source": [
    "We will make use of the Hug and Gaut methodology to determine the directionaly of adaptation."
   ]
  },
  {
   "cell_type": "code",
   "execution_count": 2,
   "metadata": {},
   "outputs": [],
   "source": [
    "#Libraries\n",
    "library('tidyverse')\n",
    "library(rlang)\n",
    "\n",
    "\n",
    "#Functions\n",
    "compare_to_ancestral=function(data,T_ref, T_test,refname){\n",
    "    #Empty dataframe\n",
    "    comparison = data.frame(clone = character(), median=numeric(),pval=numeric(),logistest=character(),\n",
    "                             referencia=numeric(),PC=character())\n",
    "    #Set the two datasets to be compared\n",
    "    datatest=subset(data,data$Condition==T_test) #Test temperature\n",
    "    dataref=subset(data,data$Condition==T_ref) #Reference temperature    \n",
    "    pcs = colnames(data)[7:10]\n",
    "    #Loop\n",
    "    for (i in 1:length(pcs)) {\n",
    "        pcs_t = pcs[i]\n",
    "        #Reference medians\n",
    "        median_PC = datatest %>% select(clone,Condition,pcs_t) %>% \n",
    "        group_by(clone) %>% summarise(median=median(!!sym(pcs_t))) %>% \n",
    "        add_column(pval=0,logi_test=0,referencia = T_ref,PC=pcs_t) \n",
    "        median_PCref = dataref %>% select(clone,Condition,pcs_t) %>% \n",
    "        group_by(clone) %>% summarise(median=median(!!sym(pcs_t))) %>% \n",
    "        add_column(pval=0,logi_test=0,referencia = T_ref,PC=pcs_t) \n",
    "        #For each component\n",
    "        for (j in 1:nrow(median_PC)) {\n",
    "           nom=levels(factor(median_PC$clone[j]))\n",
    "           temporal = datatest %>%  filter(clone==nom) %>% select(pcs_t)\n",
    "           temporal_ref = dataref %>%  filter(clone==refname) %>% select(pcs_t)\n",
    "           ref_mitjana = median_PCref %>% filter(clone == refname) %>% select(median)\n",
    "           test_mitjana = median_PC %>% filter(clone == nom) %>% select(median)\n",
    "           if(test_mitjana<ref_mitjana) {\n",
    "                testtype=\"less\"\n",
    "                    } else if(test_mitjana>ref_mitjana) {\n",
    "                        testtype=\"greater\"\n",
    "                        } else {\n",
    "                        testtype=\"two.sided\"\n",
    "                        }\n",
    "         median_PC$logi_test[j]=testtype\n",
    "         test=t.test(temporal, y = temporal_ref,\n",
    "            alternative = testtype,\n",
    "            mu = 0, paired = FALSE, var.equal=FALSE, exact = TRUE, correct = TRUE,\n",
    "            conf.int = FALSE, conf.level = 0.95)\n",
    "          median_PC$pval[j]=test$p.value\n",
    "        \n",
    "        }\n",
    "        comparison=rbind(comparison,median_PC)\n",
    "    \n",
    "    }\n",
    "      \n",
    "return(comparison)\n",
    "}"
   ]
  },
  {
   "cell_type": "markdown",
   "metadata": {},
   "source": [
    "## Select the dataset"
   ]
  },
  {
   "cell_type": "code",
   "execution_count": 143,
   "metadata": {},
   "outputs": [],
   "source": [
    "#Read the PCA transformmed data\n",
    "data606=read.csv('606_scores.csv')\n",
    "data607=read.csv('607_scores.csv')\n",
    "strain_names=read.csv('strain_names.csv')\n",
    "row.names(strain_names)=strain_names$nickname\n",
    "## Format columns\n",
    "data606$Condition=as.factor(data606$Condition)\n",
    "data606$Treatment=as.factor(data606$Treatment)\n",
    "data606$Strain=as.factor(data606$Strain)\n",
    "data607$Condition=as.factor(data607$Condition)\n",
    "data607$Treatment=as.factor(data607$Treatment)\n",
    "data607$Strain=as.factor(data607$Strain)"
   ]
  },
  {
   "cell_type": "markdown",
   "metadata": {},
   "source": [
    "## Get the comparisons"
   ]
  },
  {
   "cell_type": "code",
   "execution_count": 142,
   "metadata": {},
   "outputs": [],
   "source": [
    "#comparisons\n",
    "data = data607\n",
    "T_ref = 37\n",
    "T_test = 15\n",
    "refname = \"607p\"\n",
    "comp_file=compare_to_ancestral(data, T_ref, T_test ,refname)\n",
    "file_name=paste(refname,T_test,\"vs\",T_ref,\".csv\",sep= \"_\")\n",
    "write.csv(comp_file,file_name)"
   ]
  },
  {
   "cell_type": "markdown",
   "metadata": {},
   "source": [
    "### Correction of type I error and directionality assessment"
   ]
  },
  {
   "cell_type": "code",
   "execution_count": 145,
   "metadata": {},
   "outputs": [],
   "source": [
    "#To compare\n",
    "T_ref = 43\n",
    "T_test = 43\n",
    "\n",
    "#Load the data and the reference set\n",
    "data_name=paste(refname,T_test,\"vs\",T_ref,\".csv\",sep= \"_\")\n",
    "data=read.csv(data_name)\n",
    "alpha=0.05\n",
    "control_name=paste(refname,T_test,\"vs\",\"37\",\".csv\",sep= \"_\")\n",
    "control=read.csv(control_name)\n",
    "#Rename Columns\n",
    "colnames(control)[4]=\"pvalref\"\n",
    "colnames(data)[4]=\"pvaltest\"\n",
    "data$logi_test=as.character(data$logi_test)\n",
    "control$logi_test=as.character(control$logi_test)\n",
    "#Multiple comparison correction\n",
    "control$pvalref=p.adjust(control$pvalref,method=\"fdr\")\n",
    "data$pvaltest=p.adjust(data$pvaltest,method=\"fdr\")\n",
    "data$logi_test[data$pvaltest>=alpha] = 'equal'\n",
    "control$logi_test[control$pvalref>=alpha] = 'equal'\n",
    "\n",
    "#Add PCdir to data\n",
    "references = control %>% filter((control$clone==refname))\n",
    "row.names(references)=references$PC\n",
    "data=data %>%  mutate(PCdir=references[as.character(PC),'logi_test'])\n",
    "\n",
    "#filter controls\n",
    "data = data %>% filter(!(data$clone==refname))\n",
    "control = control %>% filter(!(control$clone==refname))\n",
    "data$comparison=\"\"\n",
    "\n",
    "# Test Classifyier\n",
    "for (i in 1:nrow(data)) {\n",
    "\n",
    "\tif (control$logi_test[i]==\"less\" && data$logi_test[i]==\"greater\" && data$PCdir[i]==\"less\") {\n",
    "\t\tdata$comparison[i]=\"Partially Restored\"} \n",
    "\tif(control$logi_test[i]==\"greater\" && data$logi_test[i]==\"less\"  && data$PCdir[i]==\"greater\") {\n",
    "\t\tdata$comparison[i]=\"Partially Restored\"}\n",
    "\tif(control$logi_test[i]==\"less\" && data$logi_test[i]==\"less\" && data$PCdir[i]==\"less\") {\n",
    "\t\tdata$comparison[i]=\"Reinforced\"}\n",
    "\tif(control$logi_test[i]==\"greater\" && data$logi_test[i]==\"greater\" && data$PCdir[i]==\"greater\") {\n",
    "\t\tdata$comparison[i]=\"Reinforced\"}\n",
    "\tif(control$logi_test[i]==\"less\" && data$logi_test[i]==\"less\" && data$PCdir[i]==\"greater\") {\n",
    "\t\tdata$comparison[i]=\"Over-restored\"}\n",
    "\tif(control$logi_test[i]==\"greater\" && data$logi_test[i]==\"greater\" && data$PCdir[i]==\"less\") {\n",
    "\t\tdata$comparison[i]=\"Over-restored\"}\n",
    "\tif(control$logi_test[i]==\"greater\" && data$logi_test[i]==\"equal\" && data$PCdir[i]==\"greater\") {\n",
    "\t\tdata$comparison[i]=\"Unrestored\"}\n",
    "\tif(control$logi_test[i]==\"less\" && data$logi_test[i]==\"equal\"&& data$PCdir[i]==\"less\") {\n",
    "\t\tdata$comparison[i]=\"Unrestored\"}\n",
    "\tif(control$logi_test[i]==\"equal\" && data$logi_test[i]==\"greater\"  && data$PCdir[i]==\"less\") {\n",
    "\t\tdata$comparison[i]=\"Restored\"}\n",
    "\tif(control$logi_test[i]==\"equal\" && data$logi_test[i]==\"less\"  && data$PCdir[i]==\"greater\") {\n",
    "\t\tdata$comparison[i]=\"Restored\"}\n",
    "\tif(control$logi_test[i]==\"less\" && data$logi_test[i]==\"less\"  && data$PCdir[i]==\"equal\") {\n",
    "\t\tdata$comparison[i]=\"Novel\"}\n",
    "\tif(control$logi_test[i]==\"greater\" && data$logi_test[i]==\"greater\"  && data$PCdir[i]==\"equal\") {\n",
    "\t\tdata$comparison[i]=\"Novel\"}\n",
    "    if(control$logi_test[i]==\"less\" && data$logi_test[i]==\"equal\"  && data$PCdir[i]==\"equal\") {\n",
    "\t\tdata$comparison[i]=\"Uninformative\"}\n",
    "    if(control$logi_test[i]==\"greater\" && data$logi_test[i]==\"equal\"  && data$PCdir[i]==\"equal\") {\n",
    "\t\tdata$comparison[i]=\"Uninformative\"}\n",
    "\tif(control$logi_test[i]==\"equal\" && data$logi_test[i]==\"equal\"  && data$PCdir[i]==\"equal\") {\n",
    "\t\tdata$comparison[i]=\"Uninformative\"}\n",
    "    if(control$logi_test[i]==\"equal\" && data$logi_test[i]==\"equal\"  && data$PCdir[i]==\"less\") {\n",
    "\t\tdata$comparison[i]=\"Uninformative\"}\n",
    "    if(control$logi_test[i]==\"equal\" && data$logi_test[i]==\"equal\"  && data$PCdir[i]==\"greater\") {\n",
    "\t\tdata$comparison[i]=\"Uninformative\"}\n",
    "\t}\n",
    "\n",
    "#Save\n",
    "file_name=paste(refname,T_test,\"directionality.csv\",sep= \"_\")\n",
    "write.csv(data,file_name)\n",
    "\n",
    "#Spread version\n",
    "spreado = data %>% select(clone,PC,comparison) %>% spread(PC,comparison)\n",
    "spreado=spreado %>%  mutate(names=strain_names[as.character(clone),'name'])\n",
    "file_name=paste(refname,T_test,\"directionality_spread.csv\",sep= \"_\")\n",
    "write.csv(spreado,file_name)"
   ]
  },
  {
   "cell_type": "code",
   "execution_count": null,
   "metadata": {},
   "outputs": [],
   "source": []
  }
 ],
 "metadata": {
  "kernelspec": {
   "display_name": "R",
   "language": "R",
   "name": "ir"
  },
  "language_info": {
   "codemirror_mode": "r",
   "file_extension": ".r",
   "mimetype": "text/x-r-source",
   "name": "R",
   "pygments_lexer": "r",
   "version": "3.6.0"
  }
 },
 "nbformat": 4,
 "nbformat_minor": 2
}
