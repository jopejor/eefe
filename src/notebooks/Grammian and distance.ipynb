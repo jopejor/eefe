{
 "cells": [
  {
   "cell_type": "markdown",
   "metadata": {},
   "source": [
    "# Directionaly of the adaptive response"
   ]
  },
  {
   "cell_type": "markdown",
   "metadata": {},
   "source": [
    "We will use other methods to evaluate the phenotypic consequences of our experiment.\n"
   ]
  },
  {
   "cell_type": "code",
   "execution_count": 91,
   "metadata": {},
   "outputs": [],
   "source": [
    "#Libraries\n",
    "library('tidyverse')\n",
    "library('rsample')\n",
    "library(broom)\n",
    "library(purrr)\n",
    "\n",
    "#Functions\n",
    "#Get the centroids\n",
    "grammian = function(data606){\n",
    "    \n",
    "centroids=data606 %>% select(clone,Condition,PC1,PC2,PC3,PC4) %>% \n",
    "filter(Condition==37) %>% group_by(clone) %>%  summarize_at(c(\"PC1\", \"PC2\",\"PC3\",\"PC4\"), mean, na.rm = TRUE)\n",
    "centroids$condition=37\n",
    "centroids43=data606 %>% select(clone,Condition,PC1,PC2,PC3,PC4) %>% \n",
    "filter(Condition==43) %>% group_by(clone) %>%  summarize_at(c(\"PC1\", \"PC2\",\"PC3\",\"PC4\"), mean, na.rm = TRUE)\n",
    "centroids43$condition=43\n",
    "centroids=rbind(centroids,centroids43)\n",
    "centroids15=data606 %>% select(clone,Condition,PC1,PC2,PC3,PC4) %>% \n",
    "filter(Condition==15) %>% group_by(clone) %>%  summarize_at(c(\"PC1\", \"PC2\",\"PC3\",\"PC4\"), mean, na.rm = TRUE)\n",
    "centroids15$condition=15\n",
    "centroids=rbind(centroids,centroids15)\n",
    "\n",
    "#Gramiam\n",
    "strains=levels(centroids$clone)\n",
    "gram=data.frame(clone=strains)\n",
    "for  (i in 1:length(strains) ){\n",
    "    soca=as.character(strains[i])\n",
    "    t=centroids %>% filter(clone==soca) %>% select(PC1,PC2,PC3,PC4)\n",
    "    mat=t(as.matrix(t))\n",
    "    gram$gramian[i]=det(t(mat) %*% mat)\n",
    "    }\n",
    "return(gram)\n",
    "}"
   ]
  },
  {
   "cell_type": "code",
   "execution_count": 3,
   "metadata": {},
   "outputs": [],
   "source": [
    "#Read the PCA transformmed data\n",
    "data606=read.csv('606_scores.csv')\n",
    "data607=read.csv('607_scores.csv')\n",
    "strain_names=read.csv('strain_names.csv')\n",
    "row.names(strain_names)=strain_names$nickname\n",
    "## Format columns\n",
    "data606$Condition=as.factor(data606$Condition)\n",
    "data606$Treatment=as.factor(data606$Treatment)\n",
    "data606$Strain=as.factor(data606$Strain)\n",
    "data607$Condition=as.factor(data607$Condition)\n",
    "data607$Treatment=as.factor(data607$Treatment)\n",
    "data607$Strain=as.factor(data607$Strain)"
   ]
  },
  {
   "cell_type": "markdown",
   "metadata": {},
   "source": [
    "## Grammian"
   ]
  },
  {
   "cell_type": "code",
   "execution_count": 110,
   "metadata": {},
   "outputs": [
    {
     "name": "stderr",
     "output_type": "stream",
     "text": [
      "Warning message:\n",
      "“`optional` is kept for consistency with the underlying class but TRUE values will be ignored.”"
     ]
    },
    {
     "data": {
      "text/html": [
       "<table>\n",
       "<thead><tr><th></th><th scope=col>clone</th><th scope=col>Replicate</th><th scope=col>Strain</th><th scope=col>Treatment</th><th scope=col>Evolved</th><th scope=col>Condition</th><th scope=col>PC1</th><th scope=col>PC2</th><th scope=col>PC3</th><th scope=col>PC4</th><th scope=col>⋯</th><th scope=col>PC82</th><th scope=col>PC83</th><th scope=col>PC84</th><th scope=col>PC85</th><th scope=col>PC86</th><th scope=col>PC87</th><th scope=col>PC88</th><th scope=col>PC89</th><th scope=col>PC90</th><th scope=col>PC91</th></tr></thead>\n",
       "<tbody>\n",
       "\t<tr><th scope=row>56</th><td>Lyanna       </td><td>Lyanna.15.2  </td><td>606          </td><td>slow         </td><td>Evolved      </td><td>15           </td><td>-0.7734250   </td><td> 0.05747144  </td><td> 0.09795112  </td><td>-0.0007775446</td><td>⋯            </td><td>-0.0043386671</td><td>-0.0069366510</td><td> 4.165754e-03</td><td> 0.0039545555</td><td>-0.0012470878</td><td> 0.0003686750</td><td> 0.0007006693</td><td>-0.0008874835</td><td>-2.041892e-03</td><td>-0.0005578750</td></tr>\n",
       "\t<tr><th scope=row>25</th><td>Baelish      </td><td>Baelish.43.1 </td><td>606          </td><td>slow         </td><td>Evolved      </td><td>43           </td><td> 1.0640881   </td><td>-0.23263560  </td><td>-0.13191340  </td><td> 0.1950026307</td><td>⋯            </td><td>-0.0019888934</td><td> 0.0022548129</td><td>-1.649298e-03</td><td> 0.0013089042</td><td>-0.0079317252</td><td>-0.0042788261</td><td> 0.0040694887</td><td>-0.0012789045</td><td>-7.719790e-04</td><td>-0.0026648398</td></tr>\n",
       "\t<tr><th scope=row>75</th><td>Ramsay       </td><td>Ramsay.15.3  </td><td>606          </td><td>slow         </td><td>Evolved      </td><td>15           </td><td>-1.0612246   </td><td>-0.24587086  </td><td> 0.07055231  </td><td>-0.0932722747</td><td>⋯            </td><td> 0.0020916615</td><td> 0.0041296716</td><td>-4.060216e-03</td><td>-0.0119170700</td><td>-0.0009572987</td><td>-0.0028197275</td><td> 0.0008265956</td><td> 0.0015682055</td><td>-7.432402e-04</td><td>-0.0004472093</td></tr>\n",
       "\t<tr><th scope=row>126</th><td>Thoros       </td><td>Thoros.43.3  </td><td>606          </td><td>random       </td><td>Evolved      </td><td>43           </td><td> 0.7036399   </td><td>-0.40662107  </td><td>-0.10823590  </td><td>-0.0425285648</td><td>⋯            </td><td>-0.0009695023</td><td> 0.0087268954</td><td> 7.071397e-05</td><td>-0.0021845038</td><td>-0.0022215561</td><td>-0.0008312613</td><td>-0.0026361777</td><td>-0.0026043646</td><td>-2.639333e-03</td><td>-0.0005547585</td></tr>\n",
       "\t<tr><th scope=row>26</th><td>Baelish      </td><td>Baelish.43.2 </td><td>606          </td><td>slow         </td><td>Evolved      </td><td>43           </td><td> 1.1538218   </td><td>-0.05694013  </td><td>-0.57123684  </td><td> 0.3022228439</td><td>⋯            </td><td> 0.0094650962</td><td>-0.0002014745</td><td>-1.818772e-03</td><td> 0.0006284329</td><td> 0.0052907520</td><td> 0.0065610533</td><td>-0.0060586931</td><td>-0.0026255478</td><td> 2.672284e-03</td><td> 0.0017944798</td></tr>\n",
       "\t<tr><th scope=row>89</th><td>Renly        </td><td>Renly.43.2   </td><td>606          </td><td>slow         </td><td>Evolved      </td><td>43           </td><td> 1.0303158   </td><td>-0.20927008  </td><td>-0.55230682  </td><td>-0.0546141377</td><td>⋯            </td><td> 0.0024835907</td><td> 0.0017889077</td><td>-5.821384e-03</td><td>-0.0014101578</td><td>-0.0010777104</td><td>-0.0001783357</td><td> 0.0028229729</td><td> 0.0007325533</td><td>-6.513061e-05</td><td> 0.0003485818</td></tr>\n",
       "</tbody>\n",
       "</table>\n"
      ],
      "text/latex": [
       "\\begin{tabular}{r|lllllllllllllllllllllllllllllllllllllllllllllllllllllllllllllllllllllllllllllllllllllllllllllllll}\n",
       "  & clone & Replicate & Strain & Treatment & Evolved & Condition & PC1 & PC2 & PC3 & PC4 & ⋯ & PC82 & PC83 & PC84 & PC85 & PC86 & PC87 & PC88 & PC89 & PC90 & PC91\\\\\n",
       "\\hline\n",
       "\t56 & Lyanna        & Lyanna.15.2   & 606           & slow          & Evolved       & 15            & -0.7734250    &  0.05747144   &  0.09795112   & -0.0007775446 & ⋯             & -0.0043386671 & -0.0069366510 &  4.165754e-03 &  0.0039545555 & -0.0012470878 &  0.0003686750 &  0.0007006693 & -0.0008874835 & -2.041892e-03 & -0.0005578750\\\\\n",
       "\t25 & Baelish       & Baelish.43.1  & 606           & slow          & Evolved       & 43            &  1.0640881    & -0.23263560   & -0.13191340   &  0.1950026307 & ⋯             & -0.0019888934 &  0.0022548129 & -1.649298e-03 &  0.0013089042 & -0.0079317252 & -0.0042788261 &  0.0040694887 & -0.0012789045 & -7.719790e-04 & -0.0026648398\\\\\n",
       "\t75 & Ramsay        & Ramsay.15.3   & 606           & slow          & Evolved       & 15            & -1.0612246    & -0.24587086   &  0.07055231   & -0.0932722747 & ⋯             &  0.0020916615 &  0.0041296716 & -4.060216e-03 & -0.0119170700 & -0.0009572987 & -0.0028197275 &  0.0008265956 &  0.0015682055 & -7.432402e-04 & -0.0004472093\\\\\n",
       "\t126 & Thoros        & Thoros.43.3   & 606           & random        & Evolved       & 43            &  0.7036399    & -0.40662107   & -0.10823590   & -0.0425285648 & ⋯             & -0.0009695023 &  0.0087268954 &  7.071397e-05 & -0.0021845038 & -0.0022215561 & -0.0008312613 & -0.0026361777 & -0.0026043646 & -2.639333e-03 & -0.0005547585\\\\\n",
       "\t26 & Baelish       & Baelish.43.2  & 606           & slow          & Evolved       & 43            &  1.1538218    & -0.05694013   & -0.57123684   &  0.3022228439 & ⋯             &  0.0094650962 & -0.0002014745 & -1.818772e-03 &  0.0006284329 &  0.0052907520 &  0.0065610533 & -0.0060586931 & -0.0026255478 &  2.672284e-03 &  0.0017944798\\\\\n",
       "\t89 & Renly         & Renly.43.2    & 606           & slow          & Evolved       & 43            &  1.0303158    & -0.20927008   & -0.55230682   & -0.0546141377 & ⋯             &  0.0024835907 &  0.0017889077 & -5.821384e-03 & -0.0014101578 & -0.0010777104 & -0.0001783357 &  0.0028229729 &  0.0007325533 & -6.513061e-05 &  0.0003485818\\\\\n",
       "\\end{tabular}\n"
      ],
      "text/markdown": [
       "\n",
       "| <!--/--> | clone | Replicate | Strain | Treatment | Evolved | Condition | PC1 | PC2 | PC3 | PC4 | ⋯ | PC82 | PC83 | PC84 | PC85 | PC86 | PC87 | PC88 | PC89 | PC90 | PC91 |\n",
       "|---|---|---|---|---|---|---|---|---|---|---|---|---|---|---|---|---|---|---|---|---|---|\n",
       "| 56 | Lyanna        | Lyanna.15.2   | 606           | slow          | Evolved       | 15            | -0.7734250    |  0.05747144   |  0.09795112   | -0.0007775446 | ⋯             | -0.0043386671 | -0.0069366510 |  4.165754e-03 |  0.0039545555 | -0.0012470878 |  0.0003686750 |  0.0007006693 | -0.0008874835 | -2.041892e-03 | -0.0005578750 |\n",
       "| 25 | Baelish       | Baelish.43.1  | 606           | slow          | Evolved       | 43            |  1.0640881    | -0.23263560   | -0.13191340   |  0.1950026307 | ⋯             | -0.0019888934 |  0.0022548129 | -1.649298e-03 |  0.0013089042 | -0.0079317252 | -0.0042788261 |  0.0040694887 | -0.0012789045 | -7.719790e-04 | -0.0026648398 |\n",
       "| 75 | Ramsay        | Ramsay.15.3   | 606           | slow          | Evolved       | 15            | -1.0612246    | -0.24587086   |  0.07055231   | -0.0932722747 | ⋯             |  0.0020916615 |  0.0041296716 | -4.060216e-03 | -0.0119170700 | -0.0009572987 | -0.0028197275 |  0.0008265956 |  0.0015682055 | -7.432402e-04 | -0.0004472093 |\n",
       "| 126 | Thoros        | Thoros.43.3   | 606           | random        | Evolved       | 43            |  0.7036399    | -0.40662107   | -0.10823590   | -0.0425285648 | ⋯             | -0.0009695023 |  0.0087268954 |  7.071397e-05 | -0.0021845038 | -0.0022215561 | -0.0008312613 | -0.0026361777 | -0.0026043646 | -2.639333e-03 | -0.0005547585 |\n",
       "| 26 | Baelish       | Baelish.43.2  | 606           | slow          | Evolved       | 43            |  1.1538218    | -0.05694013   | -0.57123684   |  0.3022228439 | ⋯             |  0.0094650962 | -0.0002014745 | -1.818772e-03 |  0.0006284329 |  0.0052907520 |  0.0065610533 | -0.0060586931 | -0.0026255478 |  2.672284e-03 |  0.0017944798 |\n",
       "| 89 | Renly         | Renly.43.2    | 606           | slow          | Evolved       | 43            |  1.0303158    | -0.20927008   | -0.55230682   | -0.0546141377 | ⋯             |  0.0024835907 |  0.0017889077 | -5.821384e-03 | -0.0014101578 | -0.0010777104 | -0.0001783357 |  0.0028229729 |  0.0007325533 | -6.513061e-05 |  0.0003485818 |\n",
       "\n"
      ],
      "text/plain": [
       "    clone   Replicate    Strain Treatment Evolved Condition PC1       \n",
       "56  Lyanna  Lyanna.15.2  606    slow      Evolved 15        -0.7734250\n",
       "25  Baelish Baelish.43.1 606    slow      Evolved 43         1.0640881\n",
       "75  Ramsay  Ramsay.15.3  606    slow      Evolved 15        -1.0612246\n",
       "126 Thoros  Thoros.43.3  606    random    Evolved 43         0.7036399\n",
       "26  Baelish Baelish.43.2 606    slow      Evolved 43         1.1538218\n",
       "89  Renly   Renly.43.2   606    slow      Evolved 43         1.0303158\n",
       "    PC2         PC3         PC4           ⋯ PC82          PC83         \n",
       "56   0.05747144  0.09795112 -0.0007775446 ⋯ -0.0043386671 -0.0069366510\n",
       "25  -0.23263560 -0.13191340  0.1950026307 ⋯ -0.0019888934  0.0022548129\n",
       "75  -0.24587086  0.07055231 -0.0932722747 ⋯  0.0020916615  0.0041296716\n",
       "126 -0.40662107 -0.10823590 -0.0425285648 ⋯ -0.0009695023  0.0087268954\n",
       "26  -0.05694013 -0.57123684  0.3022228439 ⋯  0.0094650962 -0.0002014745\n",
       "89  -0.20927008 -0.55230682 -0.0546141377 ⋯  0.0024835907  0.0017889077\n",
       "    PC84          PC85          PC86          PC87          PC88         \n",
       "56   4.165754e-03  0.0039545555 -0.0012470878  0.0003686750  0.0007006693\n",
       "25  -1.649298e-03  0.0013089042 -0.0079317252 -0.0042788261  0.0040694887\n",
       "75  -4.060216e-03 -0.0119170700 -0.0009572987 -0.0028197275  0.0008265956\n",
       "126  7.071397e-05 -0.0021845038 -0.0022215561 -0.0008312613 -0.0026361777\n",
       "26  -1.818772e-03  0.0006284329  0.0052907520  0.0065610533 -0.0060586931\n",
       "89  -5.821384e-03 -0.0014101578 -0.0010777104 -0.0001783357  0.0028229729\n",
       "    PC89          PC90          PC91         \n",
       "56  -0.0008874835 -2.041892e-03 -0.0005578750\n",
       "25  -0.0012789045 -7.719790e-04 -0.0026648398\n",
       "75   0.0015682055 -7.432402e-04 -0.0004472093\n",
       "126 -0.0026043646 -2.639333e-03 -0.0005547585\n",
       "26  -0.0026255478  2.672284e-03  0.0017944798\n",
       "89   0.0007325533 -6.513061e-05  0.0003485818"
      ]
     },
     "metadata": {},
     "output_type": "display_data"
    }
   ],
   "source": [
    "#Bootstrap\n",
    "\n",
    "boots <- bootstraps(data606, times = 10)\n",
    "\n",
    "head(as.data.frame((boots$splits[1])))\n"
   ]
  },
  {
   "cell_type": "code",
   "execution_count": 73,
   "metadata": {},
   "outputs": [
    {
     "data": {
      "text/html": [
       "<table>\n",
       "<thead><tr><th scope=col>clone</th><th scope=col>gramian</th></tr></thead>\n",
       "<tbody>\n",
       "\t<tr><td>606p      </td><td>0.11728066</td></tr>\n",
       "\t<tr><td>Baelish   </td><td>0.28091994</td></tr>\n",
       "\t<tr><td>Dayne     </td><td>0.54082507</td></tr>\n",
       "\t<tr><td>Egg       </td><td>0.69649446</td></tr>\n",
       "\t<tr><td>Khaleesi  </td><td>0.01630194</td></tr>\n",
       "\t<tr><td>Lyanna    </td><td>0.13124774</td></tr>\n",
       "\t<tr><td>Nymeria   </td><td>0.40799767</td></tr>\n",
       "\t<tr><td>Ramsay    </td><td>0.08921372</td></tr>\n",
       "\t<tr><td>Renly     </td><td>0.01499908</td></tr>\n",
       "\t<tr><td>Rhaegal   </td><td>0.06375882</td></tr>\n",
       "\t<tr><td>Shiera    </td><td>0.09990339</td></tr>\n",
       "\t<tr><td>Stannis   </td><td>0.06500143</td></tr>\n",
       "\t<tr><td>Thoros    </td><td>0.05648772</td></tr>\n",
       "</tbody>\n",
       "</table>\n"
      ],
      "text/latex": [
       "\\begin{tabular}{r|ll}\n",
       " clone & gramian\\\\\n",
       "\\hline\n",
       "\t 606p       & 0.11728066\\\\\n",
       "\t Baelish    & 0.28091994\\\\\n",
       "\t Dayne      & 0.54082507\\\\\n",
       "\t Egg        & 0.69649446\\\\\n",
       "\t Khaleesi   & 0.01630194\\\\\n",
       "\t Lyanna     & 0.13124774\\\\\n",
       "\t Nymeria    & 0.40799767\\\\\n",
       "\t Ramsay     & 0.08921372\\\\\n",
       "\t Renly      & 0.01499908\\\\\n",
       "\t Rhaegal    & 0.06375882\\\\\n",
       "\t Shiera     & 0.09990339\\\\\n",
       "\t Stannis    & 0.06500143\\\\\n",
       "\t Thoros     & 0.05648772\\\\\n",
       "\\end{tabular}\n"
      ],
      "text/markdown": [
       "\n",
       "| clone | gramian |\n",
       "|---|---|\n",
       "| 606p       | 0.11728066 |\n",
       "| Baelish    | 0.28091994 |\n",
       "| Dayne      | 0.54082507 |\n",
       "| Egg        | 0.69649446 |\n",
       "| Khaleesi   | 0.01630194 |\n",
       "| Lyanna     | 0.13124774 |\n",
       "| Nymeria    | 0.40799767 |\n",
       "| Ramsay     | 0.08921372 |\n",
       "| Renly      | 0.01499908 |\n",
       "| Rhaegal    | 0.06375882 |\n",
       "| Shiera     | 0.09990339 |\n",
       "| Stannis    | 0.06500143 |\n",
       "| Thoros     | 0.05648772 |\n",
       "\n"
      ],
      "text/plain": [
       "   clone    gramian   \n",
       "1  606p     0.11728066\n",
       "2  Baelish  0.28091994\n",
       "3  Dayne    0.54082507\n",
       "4  Egg      0.69649446\n",
       "5  Khaleesi 0.01630194\n",
       "6  Lyanna   0.13124774\n",
       "7  Nymeria  0.40799767\n",
       "8  Ramsay   0.08921372\n",
       "9  Renly    0.01499908\n",
       "10 Rhaegal  0.06375882\n",
       "11 Shiera   0.09990339\n",
       "12 Stannis  0.06500143\n",
       "13 Thoros   0.05648772"
      ]
     },
     "metadata": {},
     "output_type": "display_data"
    }
   ],
   "source": []
  },
  {
   "cell_type": "code",
   "execution_count": 143,
   "metadata": {},
   "outputs": [],
   "source": [
    "\n"
   ]
  },
  {
   "cell_type": "markdown",
   "metadata": {},
   "source": [
    "## Get the comparisons"
   ]
  },
  {
   "cell_type": "code",
   "execution_count": 142,
   "metadata": {},
   "outputs": [],
   "source": [
    "#comparisons\n",
    "data = data607\n",
    "T_ref = 37\n",
    "T_test = 15\n",
    "refname = \"607p\"\n",
    "comp_file=compare_to_ancestral(data, T_ref, T_test ,refname)\n",
    "file_name=paste(refname,T_test,\"vs\",T_ref,\".csv\",sep= \"_\")\n",
    "write.csv(comp_file,file_name)"
   ]
  },
  {
   "cell_type": "markdown",
   "metadata": {},
   "source": [
    "### Correction of type I error and directionality assessment"
   ]
  },
  {
   "cell_type": "code",
   "execution_count": 145,
   "metadata": {},
   "outputs": [],
   "source": [
    "#To compare\n",
    "T_ref = 43\n",
    "T_test = 43\n",
    "\n",
    "#Load the data and the reference set\n",
    "data_name=paste(refname,T_test,\"vs\",T_ref,\".csv\",sep= \"_\")\n",
    "data=read.csv(data_name)\n",
    "alpha=0.05\n",
    "control_name=paste(refname,T_test,\"vs\",\"37\",\".csv\",sep= \"_\")\n",
    "control=read.csv(control_name)\n",
    "#Rename Columns\n",
    "colnames(control)[4]=\"pvalref\"\n",
    "colnames(data)[4]=\"pvaltest\"\n",
    "data$logi_test=as.character(data$logi_test)\n",
    "control$logi_test=as.character(control$logi_test)\n",
    "#Multiple comparison correction\n",
    "control$pvalref=p.adjust(control$pvalref,method=\"fdr\")\n",
    "data$pvaltest=p.adjust(data$pvaltest,method=\"fdr\")\n",
    "data$logi_test[data$pvaltest>=alpha] = 'equal'\n",
    "control$logi_test[control$pvalref>=alpha] = 'equal'\n",
    "\n",
    "#Add PCdir to data\n",
    "references = control %>% filter((control$clone==refname))\n",
    "row.names(references)=references$PC\n",
    "data=data %>%  mutate(PCdir=references[as.character(PC),'logi_test'])\n",
    "\n",
    "#filter controls\n",
    "data = data %>% filter(!(data$clone==refname))\n",
    "control = control %>% filter(!(control$clone==refname))\n",
    "data$comparison=\"\"\n",
    "\n",
    "# Test Classifyier\n",
    "for (i in 1:nrow(data)) {\n",
    "\n",
    "\tif (control$logi_test[i]==\"less\" && data$logi_test[i]==\"greater\" && data$PCdir[i]==\"less\") {\n",
    "\t\tdata$comparison[i]=\"Partially Restored\"} \n",
    "\tif(control$logi_test[i]==\"greater\" && data$logi_test[i]==\"less\"  && data$PCdir[i]==\"greater\") {\n",
    "\t\tdata$comparison[i]=\"Partially Restored\"}\n",
    "\tif(control$logi_test[i]==\"less\" && data$logi_test[i]==\"less\" && data$PCdir[i]==\"less\") {\n",
    "\t\tdata$comparison[i]=\"Reinforced\"}\n",
    "\tif(control$logi_test[i]==\"greater\" && data$logi_test[i]==\"greater\" && data$PCdir[i]==\"greater\") {\n",
    "\t\tdata$comparison[i]=\"Reinforced\"}\n",
    "\tif(control$logi_test[i]==\"less\" && data$logi_test[i]==\"less\" && data$PCdir[i]==\"greater\") {\n",
    "\t\tdata$comparison[i]=\"Over-restored\"}\n",
    "\tif(control$logi_test[i]==\"greater\" && data$logi_test[i]==\"greater\" && data$PCdir[i]==\"less\") {\n",
    "\t\tdata$comparison[i]=\"Over-restored\"}\n",
    "\tif(control$logi_test[i]==\"greater\" && data$logi_test[i]==\"equal\" && data$PCdir[i]==\"greater\") {\n",
    "\t\tdata$comparison[i]=\"Unrestored\"}\n",
    "\tif(control$logi_test[i]==\"less\" && data$logi_test[i]==\"equal\"&& data$PCdir[i]==\"less\") {\n",
    "\t\tdata$comparison[i]=\"Unrestored\"}\n",
    "\tif(control$logi_test[i]==\"equal\" && data$logi_test[i]==\"greater\"  && data$PCdir[i]==\"less\") {\n",
    "\t\tdata$comparison[i]=\"Restored\"}\n",
    "\tif(control$logi_test[i]==\"equal\" && data$logi_test[i]==\"less\"  && data$PCdir[i]==\"greater\") {\n",
    "\t\tdata$comparison[i]=\"Restored\"}\n",
    "\tif(control$logi_test[i]==\"less\" && data$logi_test[i]==\"less\"  && data$PCdir[i]==\"equal\") {\n",
    "\t\tdata$comparison[i]=\"Novel\"}\n",
    "\tif(control$logi_test[i]==\"greater\" && data$logi_test[i]==\"greater\"  && data$PCdir[i]==\"equal\") {\n",
    "\t\tdata$comparison[i]=\"Novel\"}\n",
    "    if(control$logi_test[i]==\"less\" && data$logi_test[i]==\"equal\"  && data$PCdir[i]==\"equal\") {\n",
    "\t\tdata$comparison[i]=\"Uninformative\"}\n",
    "    if(control$logi_test[i]==\"greater\" && data$logi_test[i]==\"equal\"  && data$PCdir[i]==\"equal\") {\n",
    "\t\tdata$comparison[i]=\"Uninformative\"}\n",
    "\tif(control$logi_test[i]==\"equal\" && data$logi_test[i]==\"equal\"  && data$PCdir[i]==\"equal\") {\n",
    "\t\tdata$comparison[i]=\"Uninformative\"}\n",
    "    if(control$logi_test[i]==\"equal\" && data$logi_test[i]==\"equal\"  && data$PCdir[i]==\"less\") {\n",
    "\t\tdata$comparison[i]=\"Uninformative\"}\n",
    "    if(control$logi_test[i]==\"equal\" && data$logi_test[i]==\"equal\"  && data$PCdir[i]==\"greater\") {\n",
    "\t\tdata$comparison[i]=\"Uninformative\"}\n",
    "\t}\n",
    "\n",
    "#Save\n",
    "file_name=paste(refname,T_test,\"directionality.csv\",sep= \"_\")\n",
    "write.csv(data,file_name)\n",
    "\n",
    "#Spread version\n",
    "spreado = data %>% select(clone,PC,comparison) %>% spread(PC,comparison)\n",
    "spreado=spreado %>%  mutate(names=strain_names[as.character(clone),'name'])\n",
    "file_name=paste(refname,T_test,\"directionality_spread.csv\",sep= \"_\")\n",
    "write.csv(spreado,file_name)"
   ]
  },
  {
   "cell_type": "code",
   "execution_count": null,
   "metadata": {},
   "outputs": [],
   "source": []
  }
 ],
 "metadata": {
  "kernelspec": {
   "display_name": "R",
   "language": "R",
   "name": "ir"
  },
  "language_info": {
   "codemirror_mode": "r",
   "file_extension": ".r",
   "mimetype": "text/x-r-source",
   "name": "R",
   "pygments_lexer": "r",
   "version": "3.5.3"
  }
 },
 "nbformat": 4,
 "nbformat_minor": 2
}
