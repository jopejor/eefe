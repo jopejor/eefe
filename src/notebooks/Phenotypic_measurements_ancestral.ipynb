{
 "cells": [
  {
   "cell_type": "markdown",
   "metadata": {},
   "source": [
    "# Phenotypic array analyses"
   ]
  },
  {
   "cell_type": "code",
   "execution_count": 2,
   "metadata": {},
   "outputs": [
    {
     "name": "stderr",
     "output_type": "stream",
     "text": [
      "Registered S3 methods overwritten by 'ggplot2':\n",
      "  method         from \n",
      "  [.quosures     rlang\n",
      "  c.quosures     rlang\n",
      "  print.quosures rlang\n",
      "── \u001b[1mAttaching packages\u001b[22m ─────────────────────────────────────── tidyverse 1.2.1 ──\n",
      "\u001b[32m✔\u001b[39m \u001b[34mggplot2\u001b[39m 3.1.1     \u001b[32m✔\u001b[39m \u001b[34mpurrr  \u001b[39m 0.3.2\n",
      "\u001b[32m✔\u001b[39m \u001b[34mtibble \u001b[39m 2.1.1     \u001b[32m✔\u001b[39m \u001b[34mdplyr  \u001b[39m 0.8.1\n",
      "\u001b[32m✔\u001b[39m \u001b[34mtidyr  \u001b[39m 0.8.3     \u001b[32m✔\u001b[39m \u001b[34mstringr\u001b[39m 1.4.0\n",
      "\u001b[32m✔\u001b[39m \u001b[34mreadr  \u001b[39m 1.3.1     \u001b[32m✔\u001b[39m \u001b[34mforcats\u001b[39m 0.4.0\n",
      "── \u001b[1mConflicts\u001b[22m ────────────────────────────────────────── tidyverse_conflicts() ──\n",
      "\u001b[31m✖\u001b[39m \u001b[34mdplyr\u001b[39m::\u001b[32mfilter()\u001b[39m masks \u001b[34mstats\u001b[39m::filter()\n",
      "\u001b[31m✖\u001b[39m \u001b[34mdplyr\u001b[39m::\u001b[32mlag()\u001b[39m    masks \u001b[34mstats\u001b[39m::lag()\n",
      "Loading required package: carData\n",
      "\n",
      "Attaching package: ‘car’\n",
      "\n",
      "The following object is masked from ‘package:dplyr’:\n",
      "\n",
      "    recode\n",
      "\n",
      "The following object is masked from ‘package:purrr’:\n",
      "\n",
      "    some\n",
      "\n",
      "Loading required package: mvtnorm\n",
      "Loading required package: survival\n",
      "Loading required package: TH.data\n",
      "Loading required package: MASS\n",
      "\n",
      "Attaching package: ‘MASS’\n",
      "\n",
      "The following object is masked from ‘package:dplyr’:\n",
      "\n",
      "    select\n",
      "\n",
      "\n",
      "Attaching package: ‘TH.data’\n",
      "\n",
      "The following object is masked from ‘package:MASS’:\n",
      "\n",
      "    geyser\n",
      "\n"
     ]
    }
   ],
   "source": [
    "# Libraries\n",
    "library(tidyverse)\n",
    "library(broom)\n",
    "library(purrr)\n",
    "library(car)\n",
    "library(\"multcomp\")"
   ]
  },
  {
   "cell_type": "code",
   "execution_count": 3,
   "metadata": {},
   "outputs": [],
   "source": [
    "# Read data\n",
    "data = read.csv(\"ancetral_all.csv\")\n",
    "well = read.csv(\"gen_biolog .csv\")\n",
    "well = well[-(1:6),]"
   ]
  },
  {
   "cell_type": "markdown",
   "metadata": {},
   "source": [
    "## Strain Factor"
   ]
  },
  {
   "cell_type": "code",
   "execution_count": 4,
   "metadata": {},
   "outputs": [
    {
     "name": "stderr",
     "output_type": "stream",
     "text": [
      "Warning message:\n",
      "“funs() is soft deprecated as of dplyr 0.8.0\n",
      "please use list() instead\n",
      "\n",
      "  # Before:\n",
      "  funs(name = f(.))\n",
      "\n",
      "  # After: \n",
      "  list(name = ~ f(.))\n",
      "\u001b[90mThis warning is displayed once per session.\u001b[39m”"
     ]
    },
    {
     "data": {
      "text/html": [
       "<table>\n",
       "<caption>A data.frame: 9 × 3</caption>\n",
       "<thead>\n",
       "\t<tr><th scope=col>Well</th><th scope=col>value</th><th scope=col>q_value</th></tr>\n",
       "\t<tr><th scope=col>&lt;chr&gt;</th><th scope=col>&lt;dbl&gt;</th><th scope=col>&lt;dbl&gt;</th></tr>\n",
       "</thead>\n",
       "<tbody>\n",
       "\t<tr><td>a-D-Lactose</td><td>4.130443e-06</td><td>0.0001266669</td></tr>\n",
       "\t<tr><td>D-Mannitol </td><td>2.850277e-06</td><td>0.0001266669</td></tr>\n",
       "\t<tr><td>D-Galactose</td><td>3.912833e-06</td><td>0.0001266669</td></tr>\n",
       "\t<tr><td>D-Mannose  </td><td>8.377158e-06</td><td>0.0001926746</td></tr>\n",
       "\t<tr><td>trehalose  </td><td>1.518789e-05</td><td>0.0002794572</td></tr>\n",
       "\t<tr><td>D-Fructose </td><td>2.568247e-04</td><td>0.0039379790</td></tr>\n",
       "\t<tr><td>maltose    </td><td>3.485672e-04</td><td>0.0045811696</td></tr>\n",
       "\t<tr><td>D-Melibiose</td><td>1.420406e-03</td><td>0.0163346633</td></tr>\n",
       "\t<tr><td>Niaproof 4 </td><td>4.893694e-03</td><td>0.0500244301</td></tr>\n",
       "</tbody>\n",
       "</table>\n"
      ],
      "text/latex": [
       "A data.frame: 9 × 3\n",
       "\\begin{tabular}{r|lll}\n",
       " Well & value & q\\_value\\\\\n",
       " <chr> & <dbl> & <dbl>\\\\\n",
       "\\hline\n",
       "\t a-D-Lactose & 4.130443e-06 & 0.0001266669\\\\\n",
       "\t D-Mannitol  & 2.850277e-06 & 0.0001266669\\\\\n",
       "\t D-Galactose & 3.912833e-06 & 0.0001266669\\\\\n",
       "\t D-Mannose   & 8.377158e-06 & 0.0001926746\\\\\n",
       "\t trehalose   & 1.518789e-05 & 0.0002794572\\\\\n",
       "\t D-Fructose  & 2.568247e-04 & 0.0039379790\\\\\n",
       "\t maltose     & 3.485672e-04 & 0.0045811696\\\\\n",
       "\t D-Melibiose & 1.420406e-03 & 0.0163346633\\\\\n",
       "\t Niaproof 4  & 4.893694e-03 & 0.0500244301\\\\\n",
       "\\end{tabular}\n"
      ],
      "text/markdown": [
       "\n",
       "A data.frame: 9 × 3\n",
       "\n",
       "| Well &lt;chr&gt; | value &lt;dbl&gt; | q_value &lt;dbl&gt; |\n",
       "|---|---|---|\n",
       "| a-D-Lactose | 4.130443e-06 | 0.0001266669 |\n",
       "| D-Mannitol  | 2.850277e-06 | 0.0001266669 |\n",
       "| D-Galactose | 3.912833e-06 | 0.0001266669 |\n",
       "| D-Mannose   | 8.377158e-06 | 0.0001926746 |\n",
       "| trehalose   | 1.518789e-05 | 0.0002794572 |\n",
       "| D-Fructose  | 2.568247e-04 | 0.0039379790 |\n",
       "| maltose     | 3.485672e-04 | 0.0045811696 |\n",
       "| D-Melibiose | 1.420406e-03 | 0.0163346633 |\n",
       "| Niaproof 4  | 4.893694e-03 | 0.0500244301 |\n",
       "\n"
      ],
      "text/plain": [
       "  Well        value        q_value     \n",
       "1 a-D-Lactose 4.130443e-06 0.0001266669\n",
       "2 D-Mannitol  2.850277e-06 0.0001266669\n",
       "3 D-Galactose 3.912833e-06 0.0001266669\n",
       "4 D-Mannose   8.377158e-06 0.0001926746\n",
       "5 trehalose   1.518789e-05 0.0002794572\n",
       "6 D-Fructose  2.568247e-04 0.0039379790\n",
       "7 maltose     3.485672e-04 0.0045811696\n",
       "8 D-Melibiose 1.420406e-03 0.0163346633\n",
       "9 Niaproof 4  4.893694e-03 0.0500244301"
      ]
     },
     "metadata": {},
     "output_type": "display_data"
    }
   ],
   "source": [
    "# t-test\n",
    "sig = data %>% summarise_each(funs(t.test(.[Strain == \"607\"], .[Strain == \"606\"],var.equal=FALSE)$p.value), vars = Well2:Well96)\n",
    "lol = data %>% dplyr::select(Well2:Well96)\n",
    "# Rename\n",
    "names(sig) =colnames(lol)\n",
    "names(sig) = well$Assay[match(names(sig), well$Well)]\n",
    "# Transpose\n",
    "sig_t = sig %>%mutate(Well = \"Well\") %>% gather(Well) %>% mutate(q_value = p.adjust(value,method='fdr') ) %>%\n",
    "filter(q_value<0.06) %>% arrange(q_value)\n",
    "sig_t\n",
    "write.csv(sig_t, \"strain_ancestral_wells.csv\")"
   ]
  },
  {
   "cell_type": "code",
   "execution_count": 508,
   "metadata": {},
   "outputs": [
    {
     "data": {
      "text/html": [
       "<table>\n",
       "<caption>A data.frame: 0 × 3</caption>\n",
       "<thead>\n",
       "\t<tr><th scope=col>p_val</th><th scope=col>value</th><th scope=col>fdr</th></tr>\n",
       "\t<tr><th scope=col>&lt;chr&gt;</th><th scope=col>&lt;dbl&gt;</th><th scope=col>&lt;dbl&gt;</th></tr>\n",
       "</thead>\n",
       "<tbody>\n",
       "</tbody>\n",
       "</table>\n"
      ],
      "text/latex": [
       "A data.frame: 0 × 3\n",
       "\\begin{tabular}{r|lll}\n",
       " p\\_val & value & fdr\\\\\n",
       " <chr> & <dbl> & <dbl>\\\\\n",
       "\\hline\n",
       "\\end{tabular}\n"
      ],
      "text/markdown": [
       "\n",
       "A data.frame: 0 × 3\n",
       "\n",
       "| p_val &lt;chr&gt; | value &lt;dbl&gt; | fdr &lt;dbl&gt; |\n",
       "|---|---|---|\n",
       "\n"
      ],
      "text/plain": [
       "     p_val value fdr"
      ]
     },
     "metadata": {},
     "output_type": "display_data"
    }
   ],
   "source": [
    "# Homocedastic?\n",
    "data$Strain = as.factor(data$Strain)\n",
    "data$Condition = as.factor(data$Condition)\n",
    "sig_h = data %>% summarise_each(funs(bartlett.test(x=.,g=Strain)$p.value), vars = Well2:Well96)\n",
    "# Rename\n",
    "names(sig_h) =colnames(lol)\n",
    "names(sig_h) = well$Assay[match(names(sig_h), well$Well)]\n",
    "# Transpose\n",
    "sig_ht = sig_h %>%mutate(p_val = \"p_val\") %>% gather(p_val) %>% mutate(fdr = p.adjust(value,method='fdr') ) %>%\n",
    "filter(fdr<1) %>% arrange(fdr)\n",
    "sig_ht %>% filter(p_val %in% sig_t$p_val)"
   ]
  },
  {
   "cell_type": "markdown",
   "metadata": {},
   "source": [
    "# Temperature"
   ]
  },
  {
   "cell_type": "code",
   "execution_count": 513,
   "metadata": {},
   "outputs": [
    {
     "data": {
      "text/html": [
       "<table>\n",
       "<caption>A data.frame: 6 × 4</caption>\n",
       "<thead>\n",
       "\t<tr><th scope=col>Assay</th><th scope=col>15_43</th><th scope=col>37_15</th><th scope=col>37_43</th></tr>\n",
       "\t<tr><th scope=col>&lt;chr&gt;</th><th scope=col>&lt;dbl&gt;</th><th scope=col>&lt;dbl&gt;</th><th scope=col>&lt;dbl&gt;</th></tr>\n",
       "</thead>\n",
       "<tbody>\n",
       "\t<tr><td>dextrin                </td><td>2.114662e-14</td><td>3.513247e-08</td><td>2.921141e-11</td></tr>\n",
       "\t<tr><td>L-Glutamic Acid        </td><td>7.281833e-13</td><td>3.422456e-10</td><td>2.873520e-04</td></tr>\n",
       "\t<tr><td>N-Acetyl-β-DMannosamine</td><td>7.281833e-13</td><td>7.293226e-06</td><td>1.615699e-04</td></tr>\n",
       "\t<tr><td>L-Alanine              </td><td>6.990503e-12</td><td>1.637183e-10</td><td>9.333877e-02</td></tr>\n",
       "\t<tr><td>Inosine                </td><td>1.637183e-10</td><td>6.449054e-06</td><td>1.168122e-01</td></tr>\n",
       "\t<tr><td>Glycyl-L-Proline       </td><td>2.119586e-10</td><td>8.165549e-10</td><td>3.710727e-02</td></tr>\n",
       "</tbody>\n",
       "</table>\n"
      ],
      "text/latex": [
       "A data.frame: 6 × 4\n",
       "\\begin{tabular}{r|llll}\n",
       " Assay & 15\\_43 & 37\\_15 & 37\\_43\\\\\n",
       " <chr> & <dbl> & <dbl> & <dbl>\\\\\n",
       "\\hline\n",
       "\t dextrin                 & 2.114662e-14 & 3.513247e-08 & 2.921141e-11\\\\\n",
       "\t L-Glutamic Acid         & 7.281833e-13 & 3.422456e-10 & 2.873520e-04\\\\\n",
       "\t N-Acetyl-β-DMannosamine & 7.281833e-13 & 7.293226e-06 & 1.615699e-04\\\\\n",
       "\t L-Alanine               & 6.990503e-12 & 1.637183e-10 & 9.333877e-02\\\\\n",
       "\t Inosine                 & 1.637183e-10 & 6.449054e-06 & 1.168122e-01\\\\\n",
       "\t Glycyl-L-Proline        & 2.119586e-10 & 8.165549e-10 & 3.710727e-02\\\\\n",
       "\\end{tabular}\n"
      ],
      "text/markdown": [
       "\n",
       "A data.frame: 6 × 4\n",
       "\n",
       "| Assay &lt;chr&gt; | 15_43 &lt;dbl&gt; | 37_15 &lt;dbl&gt; | 37_43 &lt;dbl&gt; |\n",
       "|---|---|---|---|\n",
       "| dextrin                 | 2.114662e-14 | 3.513247e-08 | 2.921141e-11 |\n",
       "| L-Glutamic Acid         | 7.281833e-13 | 3.422456e-10 | 2.873520e-04 |\n",
       "| N-Acetyl-β-DMannosamine | 7.281833e-13 | 7.293226e-06 | 1.615699e-04 |\n",
       "| L-Alanine               | 6.990503e-12 | 1.637183e-10 | 9.333877e-02 |\n",
       "| Inosine                 | 1.637183e-10 | 6.449054e-06 | 1.168122e-01 |\n",
       "| Glycyl-L-Proline        | 2.119586e-10 | 8.165549e-10 | 3.710727e-02 |\n",
       "\n"
      ],
      "text/plain": [
       "  Assay                   15_43        37_15        37_43       \n",
       "1 dextrin                 2.114662e-14 3.513247e-08 2.921141e-11\n",
       "2 L-Glutamic Acid         7.281833e-13 3.422456e-10 2.873520e-04\n",
       "3 N-Acetyl-β-DMannosamine 7.281833e-13 7.293226e-06 1.615699e-04\n",
       "4 L-Alanine               6.990503e-12 1.637183e-10 9.333877e-02\n",
       "5 Inosine                 1.637183e-10 6.449054e-06 1.168122e-01\n",
       "6 Glycyl-L-Proline        2.119586e-10 8.165549e-10 3.710727e-02"
      ]
     },
     "metadata": {},
     "output_type": "display_data"
    }
   ],
   "source": [
    "# Calculate each t.test\n",
    "T37_T15 = data %>% summarise_each(funs(t.test(.[Condition == \"37\"], .[Condition == \"15\"],var.equal=FALSE)$p.value), vars = Well2:Well96) %>% mutate(contrast = \"37_15\")\n",
    "T37_T43 = data %>% summarise_each(funs(t.test(.[Condition == \"37\"], .[Condition == \"43\"],var.equal=FALSE)$p.value), vars = Well2:Well96)  %>% mutate(contrast = \"37_43\")\n",
    "T15_T43 = data %>% summarise_each(funs(t.test(.[Condition == \"15\"], .[Condition == \"43\"],var.equal=FALSE)$p.value), vars = Well2:Well96)  %>% mutate(contrast = \"15_43\")\n",
    "all_cont = rbind(T37_T15,T37_T43,T15_T43)\n",
    "# Rename\n",
    "names(all_cont) =c(colnames(lol),\"contrast\")\n",
    "names(all_cont) = well$Assay[match(names(all_cont), well$Well)]\n",
    "colnames(all_cont)[93] =\"Contrast\"\n",
    "all_cont = all_cont %>% dplyr::select(Contrast, everything())\n",
    "# Arrange\n",
    "all_cont_t = gather(all_cont, Assay, p_val, `D-Raffinose`:`Sodium Bromate`)\n",
    "fdr_corrected = all_cont_t%>% mutate(fdr = p.adjust(p_val,method='fdr') ) %>% arrange(fdr) %>% dplyr::select(-(p_val))\n",
    "tabular = fdr_corrected %>% spread(Contrast,fdr) %>% arrange(`15_43`)\n",
    "head(tabular)"
   ]
  },
  {
   "cell_type": "code",
   "execution_count": 514,
   "metadata": {},
   "outputs": [
    {
     "data": {
      "image/png": "[encoded data removed]",
      "text/plain": [
       "plot without title"
      ]
     },
     "metadata": {},
     "output_type": "display_data"
    }
   ],
   "source": [
    "# Venn Diagram\n",
    "forven = tabular\n",
    "row.names(forven)=tabular$Assay\n",
    "forven=forven[,-1]\n",
    "results = decideTests(forven,adjust.method='none')\n",
    "vennDiagram(results)"
   ]
  },
  {
   "cell_type": "code",
   "execution_count": 524,
   "metadata": {},
   "outputs": [],
   "source": [
    "sig_all=results[which(results[,1]!=0 & results[,2]!=0 & results[,3]!=0 ),] #Different in the three\n",
    "write.csv(sig_all, \"ancestral_all_significant.csv\")"
   ]
  },
  {
   "cell_type": "code",
   "execution_count": 522,
   "metadata": {},
   "outputs": [
    {
     "data": {
      "image/png": "[encoded data removed]",
      "text/plain": [
       "plot without title"
      ]
     },
     "metadata": {},
     "output_type": "display_data"
    }
   ],
   "source": [
    "boxplot(Well3~Condition,data)"
   ]
  },
  {
   "cell_type": "code",
   "execution_count": 496,
   "metadata": {},
   "outputs": [
    {
     "data": {
      "text/html": [
       "<table>\n",
       "<caption>A matrix: 34 × 3 of type int</caption>\n",
       "<thead>\n",
       "\t<tr><th></th><th scope=col>15_43</th><th scope=col>37_15</th><th scope=col>37_43</th></tr>\n",
       "</thead>\n",
       "<tbody>\n",
       "\t<tr><th scope=row>dextrin</th><td>1</td><td>1</td><td>1</td></tr>\n",
       "\t<tr><th scope=row>L-Glutamic Acid</th><td>1</td><td>1</td><td>1</td></tr>\n",
       "\t<tr><th scope=row>N-Acetyl-β-DMannosamine</th><td>1</td><td>1</td><td>1</td></tr>\n",
       "\t<tr><th scope=row>Glycyl-L-Proline</th><td>1</td><td>1</td><td>1</td></tr>\n",
       "\t<tr><th scope=row>L-Rhamnose</th><td>1</td><td>1</td><td>1</td></tr>\n",
       "\t<tr><th scope=row>D-Saccharic Acid</th><td>1</td><td>1</td><td>1</td></tr>\n",
       "\t<tr><th scope=row>L-Lactic Acid</th><td>1</td><td>1</td><td>1</td></tr>\n",
       "\t<tr><th scope=row>L-Malic Acid</th><td>1</td><td>1</td><td>1</td></tr>\n",
       "\t<tr><th scope=row>L-Aspartic Acid</th><td>1</td><td>1</td><td>1</td></tr>\n",
       "\t<tr><th scope=row>Glucuronamide</th><td>1</td><td>1</td><td>1</td></tr>\n",
       "\t<tr><th scope=row>b-Methyl-DGlucoside</th><td>1</td><td>1</td><td>1</td></tr>\n",
       "\t<tr><th scope=row>Bromo-Succinic Acid</th><td>1</td><td>1</td><td>1</td></tr>\n",
       "\t<tr><th scope=row>Keto-Glutaric Acid</th><td>1</td><td>1</td><td>1</td></tr>\n",
       "\t<tr><th scope=row>Vancomycin</th><td>1</td><td>1</td><td>1</td></tr>\n",
       "\t<tr><th scope=row>D-Galacturonic Acid</th><td>1</td><td>1</td><td>1</td></tr>\n",
       "\t<tr><th scope=row>D-Gluconic Acid</th><td>1</td><td>1</td><td>1</td></tr>\n",
       "\t<tr><th scope=row>Acetic Acid</th><td>1</td><td>1</td><td>1</td></tr>\n",
       "\t<tr><th scope=row>D-Malic Acid</th><td>1</td><td>1</td><td>1</td></tr>\n",
       "\t<tr><th scope=row>D-Fructose6-PO4</th><td>1</td><td>1</td><td>1</td></tr>\n",
       "\t<tr><th scope=row>Guanidine HCl</th><td>1</td><td>1</td><td>1</td></tr>\n",
       "\t<tr><th scope=row>L-Pyroglutamic Acid</th><td>1</td><td>1</td><td>1</td></tr>\n",
       "\t<tr><th scope=row>Sodium Butyrate</th><td>1</td><td>1</td><td>1</td></tr>\n",
       "\t<tr><th scope=row>Troleandomycin</th><td>1</td><td>1</td><td>1</td></tr>\n",
       "\t<tr><th scope=row>Nalidixic Acid</th><td>1</td><td>1</td><td>1</td></tr>\n",
       "\t<tr><th scope=row>D-Glucuronic Acid</th><td>1</td><td>1</td><td>1</td></tr>\n",
       "\t<tr><th scope=row>HydroxyButyric Acid</th><td>1</td><td>1</td><td>1</td></tr>\n",
       "\t<tr><th scope=row>Lithium Chloride</th><td>1</td><td>1</td><td>1</td></tr>\n",
       "\t<tr><th scope=row>3-Methyl Glucose</th><td>1</td><td>1</td><td>1</td></tr>\n",
       "\t<tr><th scope=row>D-Turanose</th><td>1</td><td>1</td><td>1</td></tr>\n",
       "\t<tr><th scope=row>D-Raffinose</th><td>1</td><td>1</td><td>1</td></tr>\n",
       "\t<tr><th scope=row>Sodium Bromate</th><td>1</td><td>1</td><td>1</td></tr>\n",
       "\t<tr><th scope=row>Keto-Butyric Acid</th><td>1</td><td>1</td><td>1</td></tr>\n",
       "\t<tr><th scope=row>Potassium Tellurite</th><td>1</td><td>1</td><td>1</td></tr>\n",
       "\t<tr><th scope=row>Propionic Acid</th><td>1</td><td>1</td><td>1</td></tr>\n",
       "</tbody>\n",
       "</table>\n"
      ],
      "text/latex": [
       "A matrix: 34 × 3 of type int\n",
       "\\begin{tabular}{r|lll}\n",
       "  & 15\\_43 & 37\\_15 & 37\\_43\\\\\n",
       "\\hline\n",
       "\tdextrin & 1 & 1 & 1\\\\\n",
       "\tL-Glutamic Acid & 1 & 1 & 1\\\\\n",
       "\tN-Acetyl-β-DMannosamine & 1 & 1 & 1\\\\\n",
       "\tGlycyl-L-Proline & 1 & 1 & 1\\\\\n",
       "\tL-Rhamnose & 1 & 1 & 1\\\\\n",
       "\tD-Saccharic Acid & 1 & 1 & 1\\\\\n",
       "\tL-Lactic Acid & 1 & 1 & 1\\\\\n",
       "\tL-Malic Acid & 1 & 1 & 1\\\\\n",
       "\tL-Aspartic Acid & 1 & 1 & 1\\\\\n",
       "\tGlucuronamide & 1 & 1 & 1\\\\\n",
       "\tb-Methyl-DGlucoside & 1 & 1 & 1\\\\\n",
       "\tBromo-Succinic Acid & 1 & 1 & 1\\\\\n",
       "\tKeto-Glutaric Acid & 1 & 1 & 1\\\\\n",
       "\tVancomycin & 1 & 1 & 1\\\\\n",
       "\tD-Galacturonic Acid & 1 & 1 & 1\\\\\n",
       "\tD-Gluconic Acid & 1 & 1 & 1\\\\\n",
       "\tAcetic Acid & 1 & 1 & 1\\\\\n",
       "\tD-Malic Acid & 1 & 1 & 1\\\\\n",
       "\tD-Fructose6-PO4 & 1 & 1 & 1\\\\\n",
       "\tGuanidine HCl & 1 & 1 & 1\\\\\n",
       "\tL-Pyroglutamic Acid & 1 & 1 & 1\\\\\n",
       "\tSodium Butyrate & 1 & 1 & 1\\\\\n",
       "\tTroleandomycin & 1 & 1 & 1\\\\\n",
       "\tNalidixic Acid & 1 & 1 & 1\\\\\n",
       "\tD-Glucuronic Acid & 1 & 1 & 1\\\\\n",
       "\tHydroxyButyric Acid & 1 & 1 & 1\\\\\n",
       "\tLithium Chloride & 1 & 1 & 1\\\\\n",
       "\t3-Methyl Glucose & 1 & 1 & 1\\\\\n",
       "\tD-Turanose & 1 & 1 & 1\\\\\n",
       "\tD-Raffinose & 1 & 1 & 1\\\\\n",
       "\tSodium Bromate & 1 & 1 & 1\\\\\n",
       "\tKeto-Butyric Acid & 1 & 1 & 1\\\\\n",
       "\tPotassium Tellurite & 1 & 1 & 1\\\\\n",
       "\tPropionic Acid & 1 & 1 & 1\\\\\n",
       "\\end{tabular}\n"
      ],
      "text/markdown": [
       "\n",
       "A matrix: 34 × 3 of type int\n",
       "\n",
       "| <!--/--> | 15_43 | 37_15 | 37_43 |\n",
       "|---|---|---|---|\n",
       "| dextrin | 1 | 1 | 1 |\n",
       "| L-Glutamic Acid | 1 | 1 | 1 |\n",
       "| N-Acetyl-β-DMannosamine | 1 | 1 | 1 |\n",
       "| Glycyl-L-Proline | 1 | 1 | 1 |\n",
       "| L-Rhamnose | 1 | 1 | 1 |\n",
       "| D-Saccharic Acid | 1 | 1 | 1 |\n",
       "| L-Lactic Acid | 1 | 1 | 1 |\n",
       "| L-Malic Acid | 1 | 1 | 1 |\n",
       "| L-Aspartic Acid | 1 | 1 | 1 |\n",
       "| Glucuronamide | 1 | 1 | 1 |\n",
       "| b-Methyl-DGlucoside | 1 | 1 | 1 |\n",
       "| Bromo-Succinic Acid | 1 | 1 | 1 |\n",
       "| Keto-Glutaric Acid | 1 | 1 | 1 |\n",
       "| Vancomycin | 1 | 1 | 1 |\n",
       "| D-Galacturonic Acid | 1 | 1 | 1 |\n",
       "| D-Gluconic Acid | 1 | 1 | 1 |\n",
       "| Acetic Acid | 1 | 1 | 1 |\n",
       "| D-Malic Acid | 1 | 1 | 1 |\n",
       "| D-Fructose6-PO4 | 1 | 1 | 1 |\n",
       "| Guanidine HCl | 1 | 1 | 1 |\n",
       "| L-Pyroglutamic Acid | 1 | 1 | 1 |\n",
       "| Sodium Butyrate | 1 | 1 | 1 |\n",
       "| Troleandomycin | 1 | 1 | 1 |\n",
       "| Nalidixic Acid | 1 | 1 | 1 |\n",
       "| D-Glucuronic Acid | 1 | 1 | 1 |\n",
       "| HydroxyButyric Acid | 1 | 1 | 1 |\n",
       "| Lithium Chloride | 1 | 1 | 1 |\n",
       "| 3-Methyl Glucose | 1 | 1 | 1 |\n",
       "| D-Turanose | 1 | 1 | 1 |\n",
       "| D-Raffinose | 1 | 1 | 1 |\n",
       "| Sodium Bromate | 1 | 1 | 1 |\n",
       "| Keto-Butyric Acid | 1 | 1 | 1 |\n",
       "| Potassium Tellurite | 1 | 1 | 1 |\n",
       "| Propionic Acid | 1 | 1 | 1 |\n",
       "\n"
      ],
      "text/plain": [
       "                        15_43 37_15 37_43\n",
       "dextrin                 1     1     1    \n",
       "L-Glutamic Acid         1     1     1    \n",
       "N-Acetyl-β-DMannosamine 1     1     1    \n",
       "Glycyl-L-Proline        1     1     1    \n",
       "L-Rhamnose              1     1     1    \n",
       "D-Saccharic Acid        1     1     1    \n",
       "L-Lactic Acid           1     1     1    \n",
       "L-Malic Acid            1     1     1    \n",
       "L-Aspartic Acid         1     1     1    \n",
       "Glucuronamide           1     1     1    \n",
       "b-Methyl-DGlucoside     1     1     1    \n",
       "Bromo-Succinic Acid     1     1     1    \n",
       "Keto-Glutaric Acid      1     1     1    \n",
       "Vancomycin              1     1     1    \n",
       "D-Galacturonic Acid     1     1     1    \n",
       "D-Gluconic Acid         1     1     1    \n",
       "Acetic Acid             1     1     1    \n",
       "D-Malic Acid            1     1     1    \n",
       "D-Fructose6-PO4         1     1     1    \n",
       "Guanidine HCl           1     1     1    \n",
       "L-Pyroglutamic Acid     1     1     1    \n",
       "Sodium Butyrate         1     1     1    \n",
       "Troleandomycin          1     1     1    \n",
       "Nalidixic Acid          1     1     1    \n",
       "D-Glucuronic Acid       1     1     1    \n",
       "HydroxyButyric Acid     1     1     1    \n",
       "Lithium Chloride        1     1     1    \n",
       "3-Methyl Glucose        1     1     1    \n",
       "D-Turanose              1     1     1    \n",
       "D-Raffinose             1     1     1    \n",
       "Sodium Bromate          1     1     1    \n",
       "Keto-Butyric Acid       1     1     1    \n",
       "Potassium Tellurite     1     1     1    \n",
       "Propionic Acid          1     1     1    "
      ]
     },
     "metadata": {},
     "output_type": "display_data"
    }
   ],
   "source": [
    "\n"
   ]
  },
  {
   "cell_type": "code",
   "execution_count": 501,
   "metadata": {},
   "outputs": [
    {
     "data": {
      "text/html": [
       "<table>\n",
       "<caption>A matrix: 7 × 3 of type int</caption>\n",
       "<thead>\n",
       "\t<tr><th></th><th scope=col>15_43</th><th scope=col>37_15</th><th scope=col>37_43</th></tr>\n",
       "</thead>\n",
       "<tbody>\n",
       "\t<tr><th scope=row>Minocycline</th><td>0</td><td>1</td><td>1</td></tr>\n",
       "\t<tr><th scope=row>Lincomycin</th><td>0</td><td>1</td><td>1</td></tr>\n",
       "\t<tr><th scope=row>D-Fucose</th><td>0</td><td>1</td><td>1</td></tr>\n",
       "\t<tr><th scope=row>p-HydroxyPhenylacetic Acid</th><td>0</td><td>1</td><td>1</td></tr>\n",
       "\t<tr><th scope=row>D-Mannitol</th><td>0</td><td>1</td><td>1</td></tr>\n",
       "\t<tr><th scope=row>a-D-Lactose</th><td>0</td><td>1</td><td>1</td></tr>\n",
       "\t<tr><th scope=row>maltose</th><td>0</td><td>1</td><td>1</td></tr>\n",
       "</tbody>\n",
       "</table>\n"
      ],
      "text/latex": [
       "A matrix: 7 × 3 of type int\n",
       "\\begin{tabular}{r|lll}\n",
       "  & 15\\_43 & 37\\_15 & 37\\_43\\\\\n",
       "\\hline\n",
       "\tMinocycline & 0 & 1 & 1\\\\\n",
       "\tLincomycin & 0 & 1 & 1\\\\\n",
       "\tD-Fucose & 0 & 1 & 1\\\\\n",
       "\tp-HydroxyPhenylacetic Acid & 0 & 1 & 1\\\\\n",
       "\tD-Mannitol & 0 & 1 & 1\\\\\n",
       "\ta-D-Lactose & 0 & 1 & 1\\\\\n",
       "\tmaltose & 0 & 1 & 1\\\\\n",
       "\\end{tabular}\n"
      ],
      "text/markdown": [
       "\n",
       "A matrix: 7 × 3 of type int\n",
       "\n",
       "| <!--/--> | 15_43 | 37_15 | 37_43 |\n",
       "|---|---|---|---|\n",
       "| Minocycline | 0 | 1 | 1 |\n",
       "| Lincomycin | 0 | 1 | 1 |\n",
       "| D-Fucose | 0 | 1 | 1 |\n",
       "| p-HydroxyPhenylacetic Acid | 0 | 1 | 1 |\n",
       "| D-Mannitol | 0 | 1 | 1 |\n",
       "| a-D-Lactose | 0 | 1 | 1 |\n",
       "| maltose | 0 | 1 | 1 |\n",
       "\n"
      ],
      "text/plain": [
       "                           15_43 37_15 37_43\n",
       "Minocycline                0     1     1    \n",
       "Lincomycin                 0     1     1    \n",
       "D-Fucose                   0     1     1    \n",
       "p-HydroxyPhenylacetic Acid 0     1     1    \n",
       "D-Mannitol                 0     1     1    \n",
       "a-D-Lactose                0     1     1    \n",
       "maltose                    0     1     1    "
      ]
     },
     "metadata": {},
     "output_type": "display_data"
    }
   ],
   "source": [
    "mc38_dif=results[which(results[,1]==0 & results[,2]==1 & results[,3]==1),] #Only different in mc38\n",
    "mc38_dif"
   ]
  },
  {
   "cell_type": "code",
   "execution_count": null,
   "metadata": {},
   "outputs": [],
   "source": []
  }
 ],
 "metadata": {
  "kernelspec": {
   "display_name": "R",
   "language": "R",
   "name": "ir"
  },
  "language_info": {
   "codemirror_mode": "r",
   "file_extension": ".r",
   "mimetype": "text/x-r-source",
   "name": "R",
   "pygments_lexer": "r",
   "version": "3.6.0"
  }
 },
 "nbformat": 4,
 "nbformat_minor": 2
}
