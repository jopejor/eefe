{
 "cells": [
  {
   "cell_type": "markdown",
   "metadata": {},
   "source": [
    "# Growth data analyses"
   ]
  },
  {
   "cell_type": "code",
   "execution_count": 69,
   "metadata": {},
   "outputs": [],
   "source": [
    "# libraries\n",
    "library(tidyverse)\n",
    "library(multcomp)\n",
    "library(ggpubr)\n",
    "library(latex2exp)\n",
    "#library(broom)\n",
    "#library(purrr)\n",
    "#library(car)\n",
    "#library(data.table)\n",
    "#library(formattable)\n",
    "library(cowplot)"
   ]
  },
  {
   "cell_type": "markdown",
   "metadata": {},
   "source": [
    "# Figure S1:\n",
    "\n",
    "Here we present the results for the intial strains relative growth rate measurements:"
   ]
  },
  {
   "cell_type": "code",
   "execution_count": 50,
   "metadata": {},
   "outputs": [
    {
     "data": {
      "text/html": [
       "<table>\n",
       "<caption>A data.frame: 2 × 9</caption>\n",
       "<thead>\n",
       "\t<tr><th></th><th scope=col>Treatment</th><th scope=col>Linage</th><th scope=col>Strain</th><th scope=col>Type</th><th scope=col>Experiment</th><th scope=col>Temperature</th><th scope=col>Max_deriv</th><th scope=col>Lag</th><th scope=col>k</th></tr>\n",
       "\t<tr><th></th><th scope=col>&lt;fct&gt;</th><th scope=col>&lt;int&gt;</th><th scope=col>&lt;fct&gt;</th><th scope=col>&lt;fct&gt;</th><th scope=col>&lt;fct&gt;</th><th scope=col>&lt;int&gt;</th><th scope=col>&lt;dbl&gt;</th><th scope=col>&lt;dbl&gt;</th><th scope=col>&lt;dbl&gt;</th></tr>\n",
       "</thead>\n",
       "<tbody>\n",
       "\t<tr><th scope=row>1</th><td>Media</td><td>607</td><td>607P</td><td>Reference</td><td>18_3_18</td><td>43</td><td>0.001699398</td><td>477.6727</td><td>0.5504434</td></tr>\n",
       "\t<tr><th scope=row>2</th><td>Media</td><td>607</td><td>607P</td><td>Reference</td><td>18_3_18</td><td>43</td><td>0.001868978</td><td>402.4976</td><td>0.5556532</td></tr>\n",
       "</tbody>\n",
       "</table>\n"
      ],
      "text/latex": [
       "A data.frame: 2 × 9\n",
       "\\begin{tabular}{r|lllllllll}\n",
       "  & Treatment & Linage & Strain & Type & Experiment & Temperature & Max\\_deriv & Lag & k\\\\\n",
       "  & <fct> & <int> & <fct> & <fct> & <fct> & <int> & <dbl> & <dbl> & <dbl>\\\\\n",
       "\\hline\n",
       "\t1 & Media & 607 & 607P & Reference & 18\\_3\\_18 & 43 & 0.001699398 & 477.6727 & 0.5504434\\\\\n",
       "\t2 & Media & 607 & 607P & Reference & 18\\_3\\_18 & 43 & 0.001868978 & 402.4976 & 0.5556532\\\\\n",
       "\\end{tabular}\n"
      ],
      "text/markdown": [
       "\n",
       "A data.frame: 2 × 9\n",
       "\n",
       "| <!--/--> | Treatment &lt;fct&gt; | Linage &lt;int&gt; | Strain &lt;fct&gt; | Type &lt;fct&gt; | Experiment &lt;fct&gt; | Temperature &lt;int&gt; | Max_deriv &lt;dbl&gt; | Lag &lt;dbl&gt; | k &lt;dbl&gt; |\n",
       "|---|---|---|---|---|---|---|---|---|---|\n",
       "| 1 | Media | 607 | 607P | Reference | 18_3_18 | 43 | 0.001699398 | 477.6727 | 0.5504434 |\n",
       "| 2 | Media | 607 | 607P | Reference | 18_3_18 | 43 | 0.001868978 | 402.4976 | 0.5556532 |\n",
       "\n"
      ],
      "text/plain": [
       "  Treatment Linage Strain Type      Experiment Temperature Max_deriv   Lag     \n",
       "1 Media     607    607P   Reference 18_3_18    43          0.001699398 477.6727\n",
       "2 Media     607    607P   Reference 18_3_18    43          0.001868978 402.4976\n",
       "  k        \n",
       "1 0.5504434\n",
       "2 0.5556532"
      ]
     },
     "metadata": {},
     "output_type": "display_data"
    }
   ],
   "source": [
    "# Read the data\n",
    "ancestral =  read.csv(\"../../data/growth_ancestrals.csv\")\n",
    "head(ancestral,n=2)"
   ]
  },
  {
   "cell_type": "code",
   "execution_count": 51,
   "metadata": {},
   "outputs": [],
   "source": [
    "# For each experiment\n",
    "exp43 = ancestral %>% filter(Temperature == 43)\n",
    "exp15 = ancestral %>% filter(Temperature == 15)\n",
    "exp37 = ancestral %>% filter(Temperature == 37)"
   ]
  },
  {
   "cell_type": "code",
   "execution_count": 52,
   "metadata": {},
   "outputs": [],
   "source": [
    "my_comparisons <- list(c(\"606P\",\"607P\") ,c(\"REL606\",\"REL607\"),c(\"606P\",\"REL606\"),c(\"607P\",\"REL607\"))"
   ]
  },
  {
   "cell_type": "markdown",
   "metadata": {},
   "source": [
    "## Growth at $43^\\circ{}C$"
   ]
  },
  {
   "cell_type": "code",
   "execution_count": 88,
   "metadata": {
    "scrolled": false
   },
   "outputs": [
    {
     "data": {
      "text/html": [
       "<strong>pdf:</strong> 2"
      ],
      "text/latex": [
       "\\textbf{pdf:} 2"
      ],
      "text/markdown": [
       "**pdf:** 2"
      ],
      "text/plain": [
       "pdf \n",
       "  2 "
      ]
     },
     "metadata": {},
     "output_type": "display_data"
    }
   ],
   "source": [
    "# Plot\n",
    "#pdf(\"FigureS1_A.pdf\")\n",
    "ggboxplot(exp43, x = \"Strain\", y = \"Max_deriv\",\n",
    "          color = \"Strain\", palette = \"jco\",add=\"jitter\")+\n",
    "stat_compare_means(comparisons = my_comparisons,method =\"t.test\",\n",
    "                   method.args = list(alternative = \"greater\"),\n",
    "                   p.adjust.method = \"fdr\",var.equal=F,\n",
    "                   label=\"p.signif\")+ylab(\"Maximum Growth Rate (OD/min)\")+\n",
    " font(\"x.text\", size = 11)+font(\"y.text\", size = 11)\n",
    "#dev.off()"
   ]
  },
  {
   "cell_type": "markdown",
   "metadata": {},
   "source": [
    "## Growth at $15^\\circ{}C$"
   ]
  },
  {
   "cell_type": "code",
   "execution_count": 89,
   "metadata": {},
   "outputs": [
    {
     "data": {
      "text/html": [
       "<strong>pdf:</strong> 2"
      ],
      "text/latex": [
       "\\textbf{pdf:} 2"
      ],
      "text/markdown": [
       "**pdf:** 2"
      ],
      "text/plain": [
       "pdf \n",
       "  2 "
      ]
     },
     "metadata": {},
     "output_type": "display_data"
    }
   ],
   "source": [
    "# Plot\n",
    "#pdf(\"FigureS1_C.pdf\")\n",
    "ggboxplot(exp15, x = \"Strain\", y = \"Max_deriv\",\n",
    "          color = \"Strain\", palette = \"jco\",add=\"jitter\")+\n",
    "stat_compare_means(comparisons = my_comparisons,method =\"t.test\",p.adjust.method = \"fdr\",var.equal\n",
    "=F,label=\"p.signif\",method.args = list(alternative = \"greater\"))+ylab(\"Maximum Growth Rate (OD/min)\")+ \n",
    "scale_y_continuous(labels = function(x) format(x, scientific = F))+\n",
    "                    font(\"x.text\", size = 11)+font(\"y.text\", size = 11)\n",
    "#dev.off()"
   ]
  },
  {
   "cell_type": "markdown",
   "metadata": {},
   "source": [
    "## Growth at $37^\\circ{}C$"
   ]
  },
  {
   "cell_type": "code",
   "execution_count": 86,
   "metadata": {},
   "outputs": [
    {
     "data": {
      "text/html": [
       "<strong>pdf:</strong> 2"
      ],
      "text/latex": [
       "\\textbf{pdf:} 2"
      ],
      "text/markdown": [
       "**pdf:** 2"
      ],
      "text/plain": [
       "pdf \n",
       "  2 "
      ]
     },
     "metadata": {},
     "output_type": "display_data"
    }
   ],
   "source": [
    "# Plot\n",
    "#pdf(\"FigureS1_B.pdf\")\n",
    " ggboxplot(exp37, x = \"Strain\", y = \"Max_deriv\",\n",
    "          color = \"Strain\", palette = \"jco\",add=\"jitter\")+\n",
    "stat_compare_means(comparisons = my_comparisons,method =\"t.test\",\n",
    "                   method.args = list(alternative = \"greater\"),\n",
    "                   p.adjust.method = \"fdr\",var.equal\n",
    "=F,label=\"p.signif\",)+ylab(\"Maximum Growth Rate (OD/min)\")+ \n",
    "scale_y_continuous(labels = function(x) format(x, scientific = F)) +  \n",
    "                   font(\"x.text\", size = 11)+font(\"y.text\", size = 11)\n",
    "#dev.off()"
   ]
  },
  {
   "cell_type": "markdown",
   "metadata": {},
   "source": [
    "# Table 1"
   ]
  },
  {
   "cell_type": "code",
   "execution_count": null,
   "metadata": {},
   "outputs": [],
   "source": [
    "# Read the data\n",
    "clones =  read.csv('../../data/growth_strains.csv')\n",
    "head(clones,n=5)"
   ]
  },
  {
   "cell_type": "code",
   "execution_count": null,
   "metadata": {},
   "outputs": [],
   "source": [
    "# Calculate the average\n",
    "sum_clones = clones %>% group_by(Linage,Strain,Treatment,Experiment,Strain,Temperature,Type)  %>%\n",
    "summarise(Mean = mean(Max_deriv), Std = sd(Max_deriv), Cv = sd(Max_deriv)/mean(Max_deriv), n= n() ) %>% ungroup()\n",
    "sum_clones$Experiment = as.character(sum_clones$Experiment)\n",
    "head(sum_clones)"
   ]
  },
  {
   "cell_type": "code",
   "execution_count": null,
   "metadata": {},
   "outputs": [],
   "source": [
    "# Significant\n",
    "clones = clones %>% distinct() %>% mutate(Group  = factor(paste(Strain,Experiment,Temperature,sep =\"_\")))\n",
    "references = clones %>% filter(Type == \"Reference\")\n",
    "cloners = clones %>% filter(Type == \"Clone\") %>% droplevels()\n",
    "Strain = factor(unique(cloners$Group))\n",
    "significant = data.frame(vars=double(),k=double(),Strain=factor(),Temperature=integer())\n",
    "for (i in 1:length(factor(unique(cloners$Group)))){\n",
    "    strain = Strain[i]\n",
    "    test = cloners %>% filter(Group == strain)\n",
    "    ref = references %>% filter(Experiment == test$Experiment[1] & Type == \"Reference\" & Linage ==  test$Linage[1])\n",
    "    d = rbind(ref,test)\n",
    "    # Sanity plot\n",
    "    filename = paste(strain,test$Temperature[1],sep=\"_\")\n",
    "    pdf(filename)\n",
    "    boxplot(d$Max_deriv~d$Type)\n",
    "    dev.off()\n",
    "    # t.test\n",
    "    var_q = bartlett.test(Max_deriv~Type,d)\n",
    "    var_T = (var_q$p.value>0.05)\n",
    "    sig = d %>% summarise_each(funs(t.test(.[Type == \"Clone\"], .[Type == \"Reference\"],\n",
    "                                           var.equal=var_T,alternative=\"greater\")$p.value), \n",
    "                                           vars = Max_deriv,k)\n",
    "    sig$Strain = test$Strain[1]\n",
    "    sig$Temperature = test$Temperature[1]\n",
    "    significant =  rbind(significant,sig)\n",
    "    }\n",
    "Growth = significant %>% dplyr::select(-k) %>% distinct() %>% spread(Temperature, vars)\n",
    "Growth$Strain = factor(Growth$Strain, levels = c(\"R606-1\", \"R606-2\", \"R606-3\", \"R606-4\",\"F606-1\", \"F606-2\", \"F606-3\", \"F606-4\", \"S606-1\", \"S606-2\", \"S606-3\", \"S606-4\",\n",
    "\"R607-1\", \"R607-2\", \"R607-3\", \"R607-4\",\"F607-1\", \"F607-2\", \"F607-3\", \"F607-4\", \"S607-1\", \"S607-2\", \"S607-3\", \"S607-4\"))\n",
    "Growth = Growth %>% arrange(Strain)\n",
    "Growth"
   ]
  },
  {
   "cell_type": "code",
   "execution_count": null,
   "metadata": {},
   "outputs": [],
   "source": [
    "# Replicate table 1\n",
    "sum_clones$RelFit = 0\n",
    "for (i in 1:nrow(sum_clones)){\n",
    "    row_df = sum_clones[i,]\n",
    "    reference =sum_clones %>% \n",
    "    filter(Experiment == as.character(row_df[\"Experiment\"]) & \n",
    "           Type == \"Reference\" & \n",
    "           Temperature == as.numeric(row_df[\"Temperature\"]) & \n",
    "           Linage == as.character(row_df[\"Linage\"]) )\n",
    "    sum_clones$RelFit[i] = row_df$Mean/reference$Mean\n",
    "    \n",
    "    \n",
    "}\n",
    "fitness_table = sum_clones %>% arrange(Linage, Temperature) %>% filter(Type == \"Clone\")\n",
    "table1 = fitness_table %>% dplyr::select(Strain,Temperature,RelFit)  %>% distinct() %>% spread(Temperature, RelFit)\n",
    "table1$Strain = factor(table1$Strain, levels = c(\"R606-1\", \"R606-2\", \"R606-3\", \"R606-4\",\"F606-1\", \"F606-2\", \"F606-3\", \"F606-4\", \"S606-1\", \"S606-2\", \"S606-3\", \"S606-4\",\n",
    "\"R607-1\", \"R607-2\", \"R607-3\", \"R607-4\",\"F607-1\", \"F607-2\", \"F607-3\", \"F607-4\", \"S607-1\", \"S607-2\", \"S607-3\", \"S607-4\"))\n",
    "table1 = table1 %>% arrange(Strain)\n",
    "table1 "
   ]
  },
  {
   "cell_type": "code",
   "execution_count": null,
   "metadata": {},
   "outputs": [],
   "source": [
    "customGreen = \"#71CA97\"\n",
    "\n",
    "customRed = \"#ff7f7f\""
   ]
  },
  {
   "cell_type": "code",
   "execution_count": null,
   "metadata": {},
   "outputs": [],
   "source": [
    "formattable(table1,`Strain`= color_tile(customGreen, customGreen0))"
   ]
  },
  {
   "cell_type": "code",
   "execution_count": null,
   "metadata": {},
   "outputs": [],
   "source": [
    "library(pheatmap)"
   ]
  },
  {
   "cell_type": "code",
   "execution_count": null,
   "metadata": {},
   "outputs": [],
   "source": [
    "lol = table1 %>% drop_na()\n",
    "lol = as.matrix(lol[,2:3])"
   ]
  },
  {
   "cell_type": "code",
   "execution_count": null,
   "metadata": {},
   "outputs": [],
   "source": [
    "\n",
    "pheatmap(lol)"
   ]
  },
  {
   "cell_type": "code",
   "execution_count": null,
   "metadata": {},
   "outputs": [],
   "source": [
    "rownames(my.data) =my.data[,1]\n"
   ]
  },
  {
   "cell_type": "code",
   "execution_count": null,
   "metadata": {},
   "outputs": [],
   "source": [
    "my.data = my.data[,2:3]"
   ]
  },
  {
   "cell_type": "code",
   "execution_count": null,
   "metadata": {},
   "outputs": [],
   "source": [
    "x = 1:ncol(my.data)\n",
    "y = 1:nrow(my.data)\n",
    "centers <- expand.grid(y,x)\n",
    " \n",
    "#make the plot margins a little bigger\n",
    "par(mar = c(2,7,4,2))\n",
    " \n",
    "image(x, y, t(my.data),\n",
    "      col = c(rgb(0,0,1,0.3),rgb(1,0,0,0.3), rgb(1,1,0,0.3)),\n",
    "      breaks = c(0, 25, 50, 100),\n",
    "      xaxt = 'n', \n",
    "      yaxt = 'n', \n",
    "      xlab = '', \n",
    "      ylab = '',\n",
    "      ylim = c(max(y) + 0.5, min(y) - 0.5)\n",
    "      ) \n",
    "\n",
    "#add margin text\n",
    "mtext(paste(attributes(my.data)$dimnames[[2]],\"(%)\"), at=1:ncol(my.data), padj = -1)\n",
    "mtext(attributes(my.data)$dimnames[[1]], at=1:nrow(my.data), side = 2, las = 1, adj = 1.2)\n",
    "\n",
    "#add black lines\n",
    "abline(h=y + 0.5)\n",
    "abline(v=x + 0.5)\n"
   ]
  },
  {
   "cell_type": "code",
   "execution_count": null,
   "metadata": {},
   "outputs": [],
   "source": []
  }
 ],
 "metadata": {
  "kernelspec": {
   "display_name": "R",
   "language": "R",
   "name": "ir"
  },
  "language_info": {
   "codemirror_mode": "r",
   "file_extension": ".r",
   "mimetype": "text/x-r-source",
   "name": "R",
   "pygments_lexer": "r",
   "version": "3.6.2"
  }
 },
 "nbformat": 4,
 "nbformat_minor": 2
}
